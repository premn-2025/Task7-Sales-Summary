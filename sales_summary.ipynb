{
 "cells": [
  {
   "cell_type": "markdown",
   "id": "0fa61583",
   "metadata": {},
   "source": [
    "# Task 7: Basic Sales Summary using SQLite and Python\n",
    "\n",
    "## Objective\n",
    "Analyze sales data using SQL queries inside Python and visualize it using Matplotlib.\n"
   ]
  },
  {
   "cell_type": "code",
   "execution_count": null,
   "id": "ca22d8b7",
   "metadata": {},
   "outputs": [],
   "source": [
    "import sqlite3\n",
    "\n",
    "# Create or connect to the SQLite database\n",
    "conn = sqlite3.connect(\"sales_data.db\")\n",
    "cursor = conn.cursor()\n",
    "\n",
    "# Create the sales table\n",
    "cursor.execute('''\n",
    "CREATE TABLE IF NOT EXISTS sales (\n",
    "    id INTEGER PRIMARY KEY AUTOINCREMENT,\n",
    "    product TEXT,\n",
    "    quantity INTEGER,\n",
    "    price REAL\n",
    ")\n",
    "''')\n",
    "\n",
    "# Insert sample data\n",
    "sample_data = [\n",
    "    ('Product A', 10, 15.0),\n",
    "    ('Product B', 5, 20.0),\n",
    "    ('Product A', 7, 15.0),\n",
    "    ('Product C', 3, 30.0),\n",
    "    ('Product B', 2, 20.0)\n",
    "]\n",
    "cursor.executemany('INSERT INTO sales (product, quantity, price) VALUES (?, ?, ?)', sample_data)\n",
    "conn.commit()\n"
   ]
  },
  {
   "cell_type": "code",
   "execution_count": null,
   "id": "57babe56",
   "metadata": {},
   "outputs": [],
   "source": [
    "import pandas as pd\n",
    "\n",
    "# SQL query to summarize data\n",
    "query = \"\"\"\n",
    "SELECT \n",
    "    product, \n",
    "    SUM(quantity) AS total_qty, \n",
    "    SUM(quantity * price) AS revenue \n",
    "FROM sales \n",
    "GROUP BY product\n",
    "\"\"\"\n",
    "\n",
    "# Load query result into pandas DataFrame\n",
    "df = pd.read_sql_query(query, conn)\n",
    "conn.close()\n",
    "\n",
    "# Display the DataFrame\n",
    "print(df)\n",
    "df\n"
   ]
  },
  {
   "cell_type": "code",
   "execution_count": null,
   "id": "50629a5c",
   "metadata": {},
   "outputs": [],
   "source": [
    "import matplotlib.pyplot as plt\n",
    "\n",
    "# Plot the bar chart for revenue\n",
    "df.plot(kind='bar', x='product', y='revenue', legend=False, color='skyblue')\n",
    "plt.title(\"Revenue by Product\")\n",
    "plt.ylabel(\"Revenue\")\n",
    "plt.xlabel(\"Product\")\n",
    "plt.tight_layout()\n",
    "plt.savefig(\"sales_chart.png\")\n",
    "plt.show()\n"
   ]
  },
  {
   "cell_type": "markdown",
   "id": "3195157c",
   "metadata": {},
   "source": [
    "## Tools Used\n",
    "- Python\n",
    "- SQLite (sqlite3)\n",
    "- pandas\n",
    "- matplotlib\n",
    "\n",
    "## Output\n",
    "See `sales_chart.png` for visualization.\n"
   ]
  }
 ],
 "metadata": {},
 "nbformat": 4,
 "nbformat_minor": 5
}
